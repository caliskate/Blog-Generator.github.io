{
 "cells": [
  {
   "cell_type": "code",
   "execution_count": 41,
   "id": "a33739b0-54f4-4d7e-8467-8c97e23b84d8",
   "metadata": {},
   "outputs": [
    {
     "name": "stdout",
     "output_type": "stream",
     "text": [
      "Defaulting to user installation because normal site-packages is not writeable\n",
      "Requirement already satisfied: beautifulsoup4 in c:\\users\\darin\\appdata\\local\\packages\\pythonsoftwarefoundation.python.3.12_qbz5n2kfra8p0\\localcache\\local-packages\\python312\\site-packages (4.12.3)\n",
      "Requirement already satisfied: soupsieve>1.2 in c:\\users\\darin\\appdata\\local\\packages\\pythonsoftwarefoundation.python.3.12_qbz5n2kfra8p0\\localcache\\local-packages\\python312\\site-packages (from beautifulsoup4) (2.5)\n"
     ]
    }
   ],
   "source": [
    "# installs:\n",
    "# !pip install openai\n",
    "# !pip install --upgrade openai\n",
    "# !pip install --upgrade pip\n",
    "# !pip install GitPython\n",
    "#!pip install beautifulsoup4"
   ]
  },
  {
   "cell_type": "markdown",
   "id": "1154afff-f625-4e6e-9d38-bc398660b7fb",
   "metadata": {},
   "source": [
    "#### <u><b>Libraries</u></b>"
   ]
  },
  {
   "cell_type": "code",
   "execution_count": 42,
   "id": "586264f0-bf08-459f-80a1-74de60dfa7e6",
   "metadata": {},
   "outputs": [],
   "source": [
    "from getpass import getpass\n",
    "from openai import OpenAI\n",
    "import os\n",
    "from git import Repo\n",
    "#used for setting up paths and parent dir to github repository\n",
    "from pathlib import Path\n",
    "import shutil\n",
    "from bs4 import BeautifulSoup as Soup"
   ]
  },
  {
   "cell_type": "code",
   "execution_count": 22,
   "id": "2f95d914-392f-427d-b448-798e5e74fd27",
   "metadata": {},
   "outputs": [
    {
     "data": {
      "text/plain": [
       "'C:\\\\Users\\\\DARiN\\\\Documents\\\\Python-JL\\\\Github\\\\caliskate.github.io'"
      ]
     },
     "execution_count": 22,
     "metadata": {},
     "output_type": "execute_result"
    }
   ],
   "source": [
    "#parent working dir\n",
    "pwd"
   ]
  },
  {
   "cell_type": "markdown",
   "id": "9fee3d44-a5b1-40f9-a397-7ac4958de28c",
   "metadata": {},
   "source": [
    "## set folders"
   ]
  },
  {
   "cell_type": "code",
   "execution_count": 24,
   "id": "e185a407-b675-4298-8373-a063819e0830",
   "metadata": {},
   "outputs": [],
   "source": [
    "#git repo folder - the folder that holds the changes and commits\n",
    "PATH_TO_BLOG_REPO = Path('C:\\\\Users\\\\DARiN\\\\Documents\\\\Python-JL\\\\Github\\\\caliskate.github.io\\\\.git')\n",
    "#main folder to inject the index.html files\n",
    "PATH_TO_BLOG = PATH_TO_BLOG_REPO.parent\n",
    "#content subfolder where we will put the blog content\n",
    "PATH_TO_CONTENT = PATH_TO_BLOG/\"content\"\n",
    "#creates content folder\n",
    "PATH_TO_CONTENT.mkdir(exist_ok=True,parents=True)"
   ]
  },
  {
   "cell_type": "markdown",
   "id": "e6059de3-7ea2-47fa-9052-ba5ef14838b2",
   "metadata": {},
   "source": [
    "#### <u><b>Set API</u></b>"
   ]
  },
  {
   "cell_type": "code",
   "execution_count": 3,
   "id": "5ef62fff-7e46-47b9-8171-c40d2b461e05",
   "metadata": {},
   "outputs": [
    {
     "name": "stdin",
     "output_type": "stream",
     "text": [
      "enter openai api key:  ········\n"
     ]
    }
   ],
   "source": [
    "os.environ[\"OPENAI_API_KEY\"] = getpass('enter openai api key: ')"
   ]
  },
  {
   "cell_type": "code",
   "execution_count": 4,
   "id": "8d9deeb0-a215-491a-871f-84791cc7c3f8",
   "metadata": {},
   "outputs": [],
   "source": [
    "client = OpenAI(api_key=os.environ['OPENAI_API_KEY'])"
   ]
  },
  {
   "cell_type": "markdown",
   "id": "21623166-b6fb-45a9-82b4-1084387570b9",
   "metadata": {},
   "source": [
    "## Define Git Push"
   ]
  },
  {
   "cell_type": "code",
   "execution_count": 29,
   "id": "dfa73d81-823a-4a59-92d5-b4c1941fddc8",
   "metadata": {},
   "outputs": [],
   "source": [
    "def update_blog(commit_message='Updates blog'):\n",
    "        #tells GitPython the Repo Location\n",
    "        repo = Repo(PATH_TO_BLOG_REPO)\n",
    "        #git add . (everything)\n",
    "        repo.git.add(all=True)\n",
    "        #git commit with some message (-m) \"updates blog\"\n",
    "        repo.index.commit(commit_message)\n",
    "        #git push\n",
    "        origin = repo.remote(name='origin')\n",
    "        origin.push()"
   ]
  },
  {
   "cell_type": "code",
   "execution_count": 30,
   "id": "c933c156-cfb7-4f68-8ad3-725e8bc017dc",
   "metadata": {},
   "outputs": [],
   "source": [
    "# commit test\n",
    "random_text_string='asdfj'\n",
    "\n",
    "with open(PATH_TO_BLOG/\"index.html\",'w') as f:\n",
    "        f.write(random_text_string)\n",
    "\n",
    "update_blog()"
   ]
  },
  {
   "cell_type": "code",
   "execution_count": 38,
   "id": "65021cf7-133c-4ef8-88e3-015b2bb00a42",
   "metadata": {},
   "outputs": [],
   "source": [
    "def create_new_blog(title,content,cover_image):\n",
    "    cover_image = Path(cover_image)\n",
    "#grab all html files and count them\n",
    "    files = len(list(PATH_TO_CONTENT.glob(\"*.html\")))\n",
    "    #creates file and folder name by counting up by 1\n",
    "    new_title = f\"{files+1}.html\"\n",
    "    path_to_new_content = PATH_TO_CONTENT/new_title\n",
    "    #getting the file and making sure in correct dir\n",
    "    shutil.copy(cover_image,PATH_TO_CONTENT)\n",
    "    #check to make sure file name does not exist - prevents error or overwriting existing files\n",
    "    if not os.path.exists(path_to_new_content):\n",
    "        #write a new html file\n",
    "        with open(path_to_new_content,\"w\") as f:\n",
    "            #write commands for each line of the blog\n",
    "            #write head of html open and close\n",
    "            f.write(\"<!DOCTYPE HTML>\\n\")\n",
    "            f.write(\"<html>\\n\")\n",
    "            f.write(\"<head>\\n\")\n",
    "            f.write(f\"<title>{title}</title>\\n\")\n",
    "            f.write(\"</head>\\n\")\n",
    "            #write body open and close with title, image and content\n",
    "            f.write(\"<body>\\n\")\n",
    "            f.write(f\"<img src='{cover_image.name}' alt='Cover Image'> <br />\\n\")\n",
    "            f.write(f\"<h1> {title} </h1>\")\n",
    "            #open ai provides \\n but we also want to replace that to include break calls\n",
    "            f.write(content.replace(\"\\n\", \"<br />\\n\"))\n",
    "            f.write(\"</body>\\n\")\n",
    "            f.write(\"</html>\\n\")\n",
    "            print('Blog Created')\n",
    "            return path_to_new_content\n",
    "    else:\n",
    "            raise FileExistsError(\"File name already exists\")"
   ]
  },
  {
   "cell_type": "code",
   "execution_count": 39,
   "id": "a3443c02-4b9c-4b9d-8dce-74876a5d6632",
   "metadata": {},
   "outputs": [
    {
     "name": "stdout",
     "output_type": "stream",
     "text": [
      "Blog Created\n"
     ]
    }
   ],
   "source": [
    "#test\n",
    "path_to_new_content = create_new_blog('Test_title','relakjhsdf','logo.png')"
   ]
  },
  {
   "cell_type": "code",
   "execution_count": 46,
   "id": "1c7acea7-9fbf-4617-8671-1acd59a3caf7",
   "metadata": {},
   "outputs": [
    {
     "data": {
      "text/plain": [
       "'<html lang=\"en\">\\n<head>\\n<meta charset=\"utf-8\"/>\\n<meta content=\"width=device-width, initial-scale=1.0\" name=\"viewport\"/>\\n<title>Document</title>\\n</head>\\n<body>\\n<h1> My BLOG Home page</h1>\\n<a href=\"index.html\">Home</a>\\n</body>\\n</html>'"
      ]
     },
     "execution_count": 46,
     "metadata": {},
     "output_type": "execute_result"
    }
   ],
   "source": [
    "#we now want an index page that lists all of the blog posts\n",
    "with open(PATH_TO_BLOG/\"index.html\") as index:\n",
    "    soup = Soup(index.read())\n",
    "\n",
    "str(soup)"
   ]
  },
  {
   "cell_type": "code",
   "execution_count": null,
   "id": "9d95b23f-0b7a-41b6-8910-5f9d2044cf9a",
   "metadata": {},
   "outputs": [],
   "source": [
    "#check for duplicate links, using href (the anchor tag for index.html)\n",
    "def check_for_duplicate_links(path_to_new_content, links):\n",
    "    urls = [str(link.get(\"href\")) for link in links] #1.html,2.html,3.html\n",
    "    content_path=str(Path(*path_to_new_content.parts[-2:]))\n",
    "    # checks for index of 2 until the end ... would look like C:/UIsers/marci/file.../1.html\n",
    "    return content_path in urls"
   ]
  },
  {
   "cell_type": "code",
   "execution_count": 51,
   "id": "96a9bc27-901f-44cf-8cb1-622571e31df9",
   "metadata": {},
   "outputs": [],
   "source": [
    "def write_to_index(path_to_new_content):\n",
    "        with open(PATH_TO_BLOG/'index.html') as index:\n",
    "            soup = Soup(index.read())\n",
    "        #looks for all anchor tags then finds the last link\n",
    "        links = sounp.find_all('a')\n",
    "        last_link = links[-1]\n",
    "\n",
    "        if check_for_duplicate_links(path_to_new_content,links):\n",
    "                raise ValueError(\"Link already exists!\")\n",
    "        # a lot of this takes advantage of what beautiful soup already has, need to familiarize what is has\n",
    "        #finds the path to the new content\n",
    "        link_to_new_blog = soup.new_tag(\"a\",href=Path(*path_to_new_content.parts[-2:]))\n",
    "        #convert the path into a string and instert into a new blog\n",
    "        link_to_new_blog.string = path_to_new_content.name.split('.')[0]\n",
    "        last_link.insert_after(link_to_new_blog)\n",
    "\n",
    "        with open(PATH_TO_BLOG/'index.html','w') as f:\n",
    "                f.write(str(soup.prettify(formatter='html')))\n",
    "        "
   ]
  },
  {
   "cell_type": "code",
   "execution_count": null,
   "id": "0a094311-bddf-498b-88a7-ee8df8f1f2b6",
   "metadata": {},
   "outputs": [],
   "source": []
  },
  {
   "cell_type": "code",
   "execution_count": 15,
   "id": "1dd063c9-baaa-485b-b66d-0a49f7f09b41",
   "metadata": {},
   "outputs": [
    {
     "name": "stdout",
     "output_type": "stream",
     "text": [
      "\n",
      "\n",
      "1. Develop advanced AI applications: OpenAI API allows you to create AI\n",
      "from getpass import getpass\n",
      "from openai import OpenAI\n",
      "import os\n",
      "# old openai.api_key = os.environ[\"OPENAI_API_KEY\"]\n",
      "client = OpenAI(\n",
      "    api_key=os.environ['OPENAI_API_KEY']\n",
      ")\n",
      "os.environ[\"OPENAI_API_KEY\"] = getpass('enter openai api key: ')\n",
      "# old openai.api_key = os.environ[\"OPENAI_API_KEY\"]\n",
      "client = OpenAI(\n",
      "    api_key=os.environ['OPENAI_API_KEY']\n",
      ")\n",
      "from getpass import getpass\n",
      "from openai import OpenAI\n",
      "import os\n",
      "import json\n",
      "client = OpenAI()\n",
      "\n",
      "completion=client.completions.create(model='davinci-002',prompt='give me one reasons to learn openai api with python')\n",
      "print(completion.choicesp[0].text)\n",
      "print(dict(completion).get('usage'))\n",
      "print(completion.model_dump_json(indent=2))\n",
      "client = OpenAI()\n",
      "\n",
      "completion=client.completions.create(model='davinci-002',prompt='give me one reasons to learn openai api with python')\n",
      "print(completion.choices[0].text)\n",
      "print(dict(completion).get('usage'))\n",
      "print(completion.model_dump_json(indent=2))\n",
      "client = OpenAI()\n",
      "\n",
      "completion=client.completions.create(model='davinci-002',prompt='give me one reasons to learn openai api with python')\n",
      "print(completion.choices[0].text)\n",
      "#print(dict(completion).get('usage'))\n",
      "#print(completion.model_dump_json(indent=2))\n",
      "client = OpenAI()\n",
      "\n",
      "completion=client.completions.create(model='gpt-3.5-turbo-instruct',prompt='give me one reasons to learn openai api with python')\n",
      "print(completion.choices[0].text)\n",
      "#print(dict(completion).get('usage'))\n",
      "#print(completion.model_dump_json(indent=2))\n",
      "client = OpenAI()\n",
      "\n",
      "completion=client.completions.create(\n",
      "                model='gpt-3.5-turbo-instruct',\n",
      "                prompt='give me one reasons to learn openai api with python')\n",
      "print(completion.choices[0].text)\n",
      "#print(dict(completion).get('usage'))\n",
      "#print(completion.model_dump_json(indent=2))\n",
      "%history\n",
      "%history -o\n",
      "%history -o\n",
      "client = OpenAI()\n",
      "\n",
      "completion=client.completions.create(\n",
      "                model='gpt-3.5-turbo-instruct',\n",
      "                prompt='give me one reasons to learn openai api with python')\n",
      "print(completion.choices[0].text)\n",
      "%history -o\n"
     ]
    }
   ],
   "source": [
    "client = OpenAI()\n",
    "\n",
    "completion=client.completions.create(\n",
    "                model='gpt-3.5-turbo-instruct',\n",
    "                prompt='give me one reasons to learn openai api with python')\n",
    "print(completion.choices[0].text)"
   ]
  },
  {
   "cell_type": "code",
   "execution_count": 14,
   "id": "a4e73ee6-23eb-441f-955d-94f9927a6309",
   "metadata": {},
   "outputs": [
    {
     "name": "stdout",
     "output_type": "stream",
     "text": [
      "from getpass import getpass\n",
      "from openai import OpenAI\n",
      "import os\n",
      "# old openai.api_key = os.environ[\"OPENAI_API_KEY\"]\n",
      "client = OpenAI(\n",
      "    api_key=os.environ['OPENAI_API_KEY']\n",
      ")\n",
      "os.environ[\"OPENAI_API_KEY\"] = getpass('enter openai api key: ')\n",
      "# old openai.api_key = os.environ[\"OPENAI_API_KEY\"]\n",
      "client = OpenAI(\n",
      "    api_key=os.environ['OPENAI_API_KEY']\n",
      ")\n",
      "from getpass import getpass\n",
      "from openai import OpenAI\n",
      "import os\n",
      "import json\n",
      "client = OpenAI()\n",
      "\n",
      "completion=client.completions.create(model='davinci-002',prompt='give me one reasons to learn openai api with python')\n",
      "print(completion.choicesp[0].text)\n",
      "print(dict(completion).get('usage'))\n",
      "print(completion.model_dump_json(indent=2))\n",
      "client = OpenAI()\n",
      "\n",
      "completion=client.completions.create(model='davinci-002',prompt='give me one reasons to learn openai api with python')\n",
      "print(completion.choices[0].text)\n",
      "print(dict(completion).get('usage'))\n",
      "print(completion.model_dump_json(indent=2))\n",
      "client = OpenAI()\n",
      "\n",
      "completion=client.completions.create(model='davinci-002',prompt='give me one reasons to learn openai api with python')\n",
      "print(completion.choices[0].text)\n",
      "#print(dict(completion).get('usage'))\n",
      "#print(completion.model_dump_json(indent=2))\n",
      "client = OpenAI()\n",
      "\n",
      "completion=client.completions.create(model='gpt-3.5-turbo-instruct',prompt='give me one reasons to learn openai api with python')\n",
      "print(completion.choices[0].text)\n",
      "#print(dict(completion).get('usage'))\n",
      "#print(completion.model_dump_json(indent=2))\n",
      "client = OpenAI()\n",
      "\n",
      "completion=client.completions.create(\n",
      "                model='gpt-3.5-turbo-instruct',\n",
      "                prompt='give me one reasons to learn openai api with python')\n",
      "print(completion.choices[0].text)\n",
      "#print(dict(completion).get('usage'))\n",
      "#print(completion.model_dump_json(indent=2))\n",
      "%history\n",
      "%history -o\n",
      "%history -o\n"
     ]
    }
   ],
   "source": [
    "%history"
   ]
  },
  {
   "cell_type": "code",
   "execution_count": 16,
   "id": "dd6fb7c5-f70a-4a49-a45a-19bd0f317e73",
   "metadata": {},
   "outputs": [
    {
     "name": "stdout",
     "output_type": "stream",
     "text": [
      "from getpass import getpass\n",
      "from openai import OpenAI\n",
      "import os\n",
      "# old openai.api_key = os.environ[\"OPENAI_API_KEY\"]\n",
      "client = OpenAI(\n",
      "    api_key=os.environ['OPENAI_API_KEY']\n",
      ")\n",
      "os.environ[\"OPENAI_API_KEY\"] = getpass('enter openai api key: ')\n",
      "# old openai.api_key = os.environ[\"OPENAI_API_KEY\"]\n",
      "client = OpenAI(\n",
      "    api_key=os.environ['OPENAI_API_KEY']\n",
      ")\n",
      "from getpass import getpass\n",
      "from openai import OpenAI\n",
      "import os\n",
      "import json\n",
      "client = OpenAI()\n",
      "\n",
      "completion=client.completions.create(model='davinci-002',prompt='give me one reasons to learn openai api with python')\n",
      "print(completion.choicesp[0].text)\n",
      "print(dict(completion).get('usage'))\n",
      "print(completion.model_dump_json(indent=2))\n",
      "client = OpenAI()\n",
      "\n",
      "completion=client.completions.create(model='davinci-002',prompt='give me one reasons to learn openai api with python')\n",
      "print(completion.choices[0].text)\n",
      "print(dict(completion).get('usage'))\n",
      "print(completion.model_dump_json(indent=2))\n",
      "client = OpenAI()\n",
      "\n",
      "completion=client.completions.create(model='davinci-002',prompt='give me one reasons to learn openai api with python')\n",
      "print(completion.choices[0].text)\n",
      "#print(dict(completion).get('usage'))\n",
      "#print(completion.model_dump_json(indent=2))\n",
      "client = OpenAI()\n",
      "\n",
      "completion=client.completions.create(model='gpt-3.5-turbo-instruct',prompt='give me one reasons to learn openai api with python')\n",
      "print(completion.choices[0].text)\n",
      "#print(dict(completion).get('usage'))\n",
      "#print(completion.model_dump_json(indent=2))\n",
      "client = OpenAI()\n",
      "\n",
      "completion=client.completions.create(\n",
      "                model='gpt-3.5-turbo-instruct',\n",
      "                prompt='give me one reasons to learn openai api with python')\n",
      "print(completion.choices[0].text)\n",
      "#print(dict(completion).get('usage'))\n",
      "#print(completion.model_dump_json(indent=2))\n",
      "%history\n",
      "%history -o\n",
      "%history -o\n",
      "client = OpenAI()\n",
      "\n",
      "completion=client.completions.create(\n",
      "                model='gpt-3.5-turbo-instruct',\n",
      "                prompt='give me one reasons to learn openai api with python')\n",
      "print(completion.choices[0].text)\n",
      "%history -o\n",
      "%history -o\n"
     ]
    }
   ],
   "source": [
    "%history -o"
   ]
  },
  {
   "cell_type": "code",
   "execution_count": null,
   "id": "6341f60c-00aa-4f9c-bfbd-eaecea551197",
   "metadata": {},
   "outputs": [],
   "source": []
  }
 ],
 "metadata": {
  "kernelspec": {
   "display_name": "Python 3 (ipykernel)",
   "language": "python",
   "name": "python3"
  },
  "language_info": {
   "codemirror_mode": {
    "name": "ipython",
    "version": 3
   },
   "file_extension": ".py",
   "mimetype": "text/x-python",
   "name": "python",
   "nbconvert_exporter": "python",
   "pygments_lexer": "ipython3",
   "version": "3.12.4"
  }
 },
 "nbformat": 4,
 "nbformat_minor": 5
}
