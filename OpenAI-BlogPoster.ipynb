{
 "cells": [
  {
   "cell_type": "code",
   "execution_count": 18,
   "id": "a33739b0-54f4-4d7e-8467-8c97e23b84d8",
   "metadata": {},
   "outputs": [
    {
     "name": "stdout",
     "output_type": "stream",
     "text": [
      "Defaulting to user installation because normal site-packages is not writeable\n",
      "Collecting GitPython\n",
      "  Downloading GitPython-3.1.43-py3-none-any.whl.metadata (13 kB)\n",
      "Collecting gitdb<5,>=4.0.1 (from GitPython)\n",
      "  Downloading gitdb-4.0.11-py3-none-any.whl.metadata (1.2 kB)\n",
      "Collecting smmap<6,>=3.0.1 (from gitdb<5,>=4.0.1->GitPython)\n",
      "  Downloading smmap-5.0.1-py3-none-any.whl.metadata (4.3 kB)\n",
      "Downloading GitPython-3.1.43-py3-none-any.whl (207 kB)\n",
      "   ---------------------------------------- 0.0/207.3 kB ? eta -:--:--\n",
      "   --------------------------- ------------ 143.4/207.3 kB 2.8 MB/s eta 0:00:01\n",
      "   ---------------------------------------- 207.3/207.3 kB 3.1 MB/s eta 0:00:00\n",
      "Downloading gitdb-4.0.11-py3-none-any.whl (62 kB)\n",
      "   ---------------------------------------- 0.0/62.7 kB ? eta -:--:--\n",
      "   ---------------------------------------- 62.7/62.7 kB 3.3 MB/s eta 0:00:00\n",
      "Downloading smmap-5.0.1-py3-none-any.whl (24 kB)\n",
      "Installing collected packages: smmap, gitdb, GitPython\n",
      "Successfully installed GitPython-3.1.43 gitdb-4.0.11 smmap-5.0.1\n"
     ]
    }
   ],
   "source": [
    "# installs:\n",
    "# !pip install openai\n",
    "# !pip install --upgrade openai\n",
    "# !pip install --upgrade pip\n",
    "# !pip install GitPython"
   ]
  },
  {
   "cell_type": "markdown",
   "id": "1154afff-f625-4e6e-9d38-bc398660b7fb",
   "metadata": {},
   "source": [
    "#### <u><b>Libraries</u></b>"
   ]
  },
  {
   "cell_type": "code",
   "execution_count": 21,
   "id": "586264f0-bf08-459f-80a1-74de60dfa7e6",
   "metadata": {},
   "outputs": [
    {
     "ename": "NameError",
     "evalue": "name 'pwd' is not defined",
     "output_type": "error",
     "traceback": [
      "\u001b[1;31m---------------------------------------------------------------------------\u001b[0m",
      "\u001b[1;31mNameError\u001b[0m                                 Traceback (most recent call last)",
      "Cell \u001b[1;32mIn[21], line 7\u001b[0m\n\u001b[0;32m      5\u001b[0m \u001b[38;5;66;03m#used for setting up paths and parent dir to github repository\u001b[39;00m\n\u001b[0;32m      6\u001b[0m \u001b[38;5;28;01mfrom\u001b[39;00m \u001b[38;5;21;01mpathlib\u001b[39;00m \u001b[38;5;28;01mimport\u001b[39;00m Path\n\u001b[1;32m----> 7\u001b[0m \u001b[43mpwd\u001b[49m\n",
      "\u001b[1;31mNameError\u001b[0m: name 'pwd' is not defined"
     ]
    }
   ],
   "source": [
    "from getpass import getpass\n",
    "from openai import OpenAI\n",
    "import os\n",
    "from git import Repo\n",
    "#used for setting up paths and parent dir to github repository\n",
    "from pathlib import Path"
   ]
  },
  {
   "cell_type": "code",
   "execution_count": 22,
   "id": "2f95d914-392f-427d-b448-798e5e74fd27",
   "metadata": {},
   "outputs": [
    {
     "data": {
      "text/plain": [
       "'C:\\\\Users\\\\DARiN\\\\Documents\\\\Python-JL\\\\Github\\\\caliskate.github.io'"
      ]
     },
     "execution_count": 22,
     "metadata": {},
     "output_type": "execute_result"
    }
   ],
   "source": [
    "#parent working dir\n",
    "pwd"
   ]
  },
  {
   "cell_type": "markdown",
   "id": "9fee3d44-a5b1-40f9-a397-7ac4958de28c",
   "metadata": {},
   "source": [
    "## set folders"
   ]
  },
  {
   "cell_type": "code",
   "execution_count": 23,
   "id": "c7f507ae-d59c-42e6-a3a4-dc8501fdbe8b",
   "metadata": {},
   "outputs": [],
   "source": [
    "#git repo folder\n",
    "PATH_TO_BLOG_REPO = Path('C:\\\\Users\\\\DARiN\\\\Documents\\\\Python-JL\\\\Github\\\\caliskate.github.io\\\\.git')"
   ]
  },
  {
   "cell_type": "code",
   "execution_count": 24,
   "id": "e185a407-b675-4298-8373-a063819e0830",
   "metadata": {},
   "outputs": [],
   "source": [
    "#main folder\n",
    "PATH_TO_BLOG = PATH_TO_BLOG_REPO.parent"
   ]
  },
  {
   "cell_type": "code",
   "execution_count": 25,
   "id": "9e16698f-3e8f-4615-902f-10e97b55695f",
   "metadata": {},
   "outputs": [],
   "source": [
    "#content subfolder\n",
    "PATH_TO_CONTENT = PATH_TO_BLOG/\"content\""
   ]
  },
  {
   "cell_type": "code",
   "execution_count": 26,
   "id": "84fbd11a-6083-4001-af8f-5dc6874cd5d1",
   "metadata": {},
   "outputs": [],
   "source": [
    "#creates content folder\n",
    "PATH_TO_CONTENT.mkdir(exist_ok=True,parents=True)"
   ]
  },
  {
   "cell_type": "markdown",
   "id": "e6059de3-7ea2-47fa-9052-ba5ef14838b2",
   "metadata": {},
   "source": [
    "#### <u><b>Set API</u></b>"
   ]
  },
  {
   "cell_type": "code",
   "execution_count": 3,
   "id": "5ef62fff-7e46-47b9-8171-c40d2b461e05",
   "metadata": {},
   "outputs": [
    {
     "name": "stdin",
     "output_type": "stream",
     "text": [
      "enter openai api key:  ········\n"
     ]
    }
   ],
   "source": [
    "os.environ[\"OPENAI_API_KEY\"] = getpass('enter openai api key: ')"
   ]
  },
  {
   "cell_type": "code",
   "execution_count": 4,
   "id": "8d9deeb0-a215-491a-871f-84791cc7c3f8",
   "metadata": {},
   "outputs": [],
   "source": [
    "client = OpenAI(api_key=os.environ['OPENAI_API_KEY'])"
   ]
  },
  {
   "cell_type": "markdown",
   "id": "21623166-b6fb-45a9-82b4-1084387570b9",
   "metadata": {},
   "source": [
    "## Set Git Push"
   ]
  },
  {
   "cell_type": "code",
   "execution_count": null,
   "id": "dfa73d81-823a-4a59-92d5-b4c1941fddc8",
   "metadata": {},
   "outputs": [],
   "source": [
    "def update_blog(commit_message='Updates blog'):\n",
    "        #tells GitPython the Repo Location\n",
    "        repo = Repo(PATH_TO_BLOG_REPO)\n",
    "        #git add . (everything)\n",
    "        repo.git.add(all=True)\n",
    "        #git commit with some message (-m) \"updates blog\"\n",
    "        repo.index.commit(commit_message)\n",
    "        #git push\n",
    "        origin = repo.remote(name='origin')\n",
    "        origin.push()"
   ]
  },
  {
   "cell_type": "code",
   "execution_count": 27,
   "id": "c933c156-cfb7-4f68-8ad3-725e8bc017dc",
   "metadata": {},
   "outputs": [
    {
     "ename": "SyntaxError",
     "evalue": "unterminated string literal (detected at line 2) (2125386218.py, line 2)",
     "output_type": "error",
     "traceback": [
      "\u001b[1;36m  Cell \u001b[1;32mIn[27], line 2\u001b[1;36m\u001b[0m\n\u001b[1;33m    with open(PATH_TO_BLOG/\"\u001b[0m\n\u001b[1;37m                           ^\u001b[0m\n\u001b[1;31mSyntaxError\u001b[0m\u001b[1;31m:\u001b[0m unterminated string literal (detected at line 2)\n"
     ]
    }
   ],
   "source": [
    "# test\n",
    "with open(PATH_TO_BLOG/\"index.html\",'w') as f: "
   ]
  },
  {
   "cell_type": "code",
   "execution_count": null,
   "id": "65021cf7-133c-4ef8-88e3-015b2bb00a42",
   "metadata": {},
   "outputs": [],
   "source": []
  },
  {
   "cell_type": "code",
   "execution_count": 15,
   "id": "1dd063c9-baaa-485b-b66d-0a49f7f09b41",
   "metadata": {},
   "outputs": [
    {
     "name": "stdout",
     "output_type": "stream",
     "text": [
      "\n",
      "\n",
      "1. Develop advanced AI applications: OpenAI API allows you to create AI\n",
      "from getpass import getpass\n",
      "from openai import OpenAI\n",
      "import os\n",
      "# old openai.api_key = os.environ[\"OPENAI_API_KEY\"]\n",
      "client = OpenAI(\n",
      "    api_key=os.environ['OPENAI_API_KEY']\n",
      ")\n",
      "os.environ[\"OPENAI_API_KEY\"] = getpass('enter openai api key: ')\n",
      "# old openai.api_key = os.environ[\"OPENAI_API_KEY\"]\n",
      "client = OpenAI(\n",
      "    api_key=os.environ['OPENAI_API_KEY']\n",
      ")\n",
      "from getpass import getpass\n",
      "from openai import OpenAI\n",
      "import os\n",
      "import json\n",
      "client = OpenAI()\n",
      "\n",
      "completion=client.completions.create(model='davinci-002',prompt='give me one reasons to learn openai api with python')\n",
      "print(completion.choicesp[0].text)\n",
      "print(dict(completion).get('usage'))\n",
      "print(completion.model_dump_json(indent=2))\n",
      "client = OpenAI()\n",
      "\n",
      "completion=client.completions.create(model='davinci-002',prompt='give me one reasons to learn openai api with python')\n",
      "print(completion.choices[0].text)\n",
      "print(dict(completion).get('usage'))\n",
      "print(completion.model_dump_json(indent=2))\n",
      "client = OpenAI()\n",
      "\n",
      "completion=client.completions.create(model='davinci-002',prompt='give me one reasons to learn openai api with python')\n",
      "print(completion.choices[0].text)\n",
      "#print(dict(completion).get('usage'))\n",
      "#print(completion.model_dump_json(indent=2))\n",
      "client = OpenAI()\n",
      "\n",
      "completion=client.completions.create(model='gpt-3.5-turbo-instruct',prompt='give me one reasons to learn openai api with python')\n",
      "print(completion.choices[0].text)\n",
      "#print(dict(completion).get('usage'))\n",
      "#print(completion.model_dump_json(indent=2))\n",
      "client = OpenAI()\n",
      "\n",
      "completion=client.completions.create(\n",
      "                model='gpt-3.5-turbo-instruct',\n",
      "                prompt='give me one reasons to learn openai api with python')\n",
      "print(completion.choices[0].text)\n",
      "#print(dict(completion).get('usage'))\n",
      "#print(completion.model_dump_json(indent=2))\n",
      "%history\n",
      "%history -o\n",
      "%history -o\n",
      "client = OpenAI()\n",
      "\n",
      "completion=client.completions.create(\n",
      "                model='gpt-3.5-turbo-instruct',\n",
      "                prompt='give me one reasons to learn openai api with python')\n",
      "print(completion.choices[0].text)\n",
      "%history -o\n"
     ]
    }
   ],
   "source": [
    "client = OpenAI()\n",
    "\n",
    "completion=client.completions.create(\n",
    "                model='gpt-3.5-turbo-instruct',\n",
    "                prompt='give me one reasons to learn openai api with python')\n",
    "print(completion.choices[0].text)"
   ]
  },
  {
   "cell_type": "code",
   "execution_count": 14,
   "id": "a4e73ee6-23eb-441f-955d-94f9927a6309",
   "metadata": {},
   "outputs": [
    {
     "name": "stdout",
     "output_type": "stream",
     "text": [
      "from getpass import getpass\n",
      "from openai import OpenAI\n",
      "import os\n",
      "# old openai.api_key = os.environ[\"OPENAI_API_KEY\"]\n",
      "client = OpenAI(\n",
      "    api_key=os.environ['OPENAI_API_KEY']\n",
      ")\n",
      "os.environ[\"OPENAI_API_KEY\"] = getpass('enter openai api key: ')\n",
      "# old openai.api_key = os.environ[\"OPENAI_API_KEY\"]\n",
      "client = OpenAI(\n",
      "    api_key=os.environ['OPENAI_API_KEY']\n",
      ")\n",
      "from getpass import getpass\n",
      "from openai import OpenAI\n",
      "import os\n",
      "import json\n",
      "client = OpenAI()\n",
      "\n",
      "completion=client.completions.create(model='davinci-002',prompt='give me one reasons to learn openai api with python')\n",
      "print(completion.choicesp[0].text)\n",
      "print(dict(completion).get('usage'))\n",
      "print(completion.model_dump_json(indent=2))\n",
      "client = OpenAI()\n",
      "\n",
      "completion=client.completions.create(model='davinci-002',prompt='give me one reasons to learn openai api with python')\n",
      "print(completion.choices[0].text)\n",
      "print(dict(completion).get('usage'))\n",
      "print(completion.model_dump_json(indent=2))\n",
      "client = OpenAI()\n",
      "\n",
      "completion=client.completions.create(model='davinci-002',prompt='give me one reasons to learn openai api with python')\n",
      "print(completion.choices[0].text)\n",
      "#print(dict(completion).get('usage'))\n",
      "#print(completion.model_dump_json(indent=2))\n",
      "client = OpenAI()\n",
      "\n",
      "completion=client.completions.create(model='gpt-3.5-turbo-instruct',prompt='give me one reasons to learn openai api with python')\n",
      "print(completion.choices[0].text)\n",
      "#print(dict(completion).get('usage'))\n",
      "#print(completion.model_dump_json(indent=2))\n",
      "client = OpenAI()\n",
      "\n",
      "completion=client.completions.create(\n",
      "                model='gpt-3.5-turbo-instruct',\n",
      "                prompt='give me one reasons to learn openai api with python')\n",
      "print(completion.choices[0].text)\n",
      "#print(dict(completion).get('usage'))\n",
      "#print(completion.model_dump_json(indent=2))\n",
      "%history\n",
      "%history -o\n",
      "%history -o\n"
     ]
    }
   ],
   "source": [
    "%history"
   ]
  },
  {
   "cell_type": "code",
   "execution_count": 16,
   "id": "dd6fb7c5-f70a-4a49-a45a-19bd0f317e73",
   "metadata": {},
   "outputs": [
    {
     "name": "stdout",
     "output_type": "stream",
     "text": [
      "from getpass import getpass\n",
      "from openai import OpenAI\n",
      "import os\n",
      "# old openai.api_key = os.environ[\"OPENAI_API_KEY\"]\n",
      "client = OpenAI(\n",
      "    api_key=os.environ['OPENAI_API_KEY']\n",
      ")\n",
      "os.environ[\"OPENAI_API_KEY\"] = getpass('enter openai api key: ')\n",
      "# old openai.api_key = os.environ[\"OPENAI_API_KEY\"]\n",
      "client = OpenAI(\n",
      "    api_key=os.environ['OPENAI_API_KEY']\n",
      ")\n",
      "from getpass import getpass\n",
      "from openai import OpenAI\n",
      "import os\n",
      "import json\n",
      "client = OpenAI()\n",
      "\n",
      "completion=client.completions.create(model='davinci-002',prompt='give me one reasons to learn openai api with python')\n",
      "print(completion.choicesp[0].text)\n",
      "print(dict(completion).get('usage'))\n",
      "print(completion.model_dump_json(indent=2))\n",
      "client = OpenAI()\n",
      "\n",
      "completion=client.completions.create(model='davinci-002',prompt='give me one reasons to learn openai api with python')\n",
      "print(completion.choices[0].text)\n",
      "print(dict(completion).get('usage'))\n",
      "print(completion.model_dump_json(indent=2))\n",
      "client = OpenAI()\n",
      "\n",
      "completion=client.completions.create(model='davinci-002',prompt='give me one reasons to learn openai api with python')\n",
      "print(completion.choices[0].text)\n",
      "#print(dict(completion).get('usage'))\n",
      "#print(completion.model_dump_json(indent=2))\n",
      "client = OpenAI()\n",
      "\n",
      "completion=client.completions.create(model='gpt-3.5-turbo-instruct',prompt='give me one reasons to learn openai api with python')\n",
      "print(completion.choices[0].text)\n",
      "#print(dict(completion).get('usage'))\n",
      "#print(completion.model_dump_json(indent=2))\n",
      "client = OpenAI()\n",
      "\n",
      "completion=client.completions.create(\n",
      "                model='gpt-3.5-turbo-instruct',\n",
      "                prompt='give me one reasons to learn openai api with python')\n",
      "print(completion.choices[0].text)\n",
      "#print(dict(completion).get('usage'))\n",
      "#print(completion.model_dump_json(indent=2))\n",
      "%history\n",
      "%history -o\n",
      "%history -o\n",
      "client = OpenAI()\n",
      "\n",
      "completion=client.completions.create(\n",
      "                model='gpt-3.5-turbo-instruct',\n",
      "                prompt='give me one reasons to learn openai api with python')\n",
      "print(completion.choices[0].text)\n",
      "%history -o\n",
      "%history -o\n"
     ]
    }
   ],
   "source": [
    "%history -o"
   ]
  },
  {
   "cell_type": "code",
   "execution_count": null,
   "id": "6341f60c-00aa-4f9c-bfbd-eaecea551197",
   "metadata": {},
   "outputs": [],
   "source": []
  }
 ],
 "metadata": {
  "kernelspec": {
   "display_name": "Python 3 (ipykernel)",
   "language": "python",
   "name": "python3"
  },
  "language_info": {
   "codemirror_mode": {
    "name": "ipython",
    "version": 3
   },
   "file_extension": ".py",
   "mimetype": "text/x-python",
   "name": "python",
   "nbconvert_exporter": "python",
   "pygments_lexer": "ipython3",
   "version": "3.12.4"
  }
 },
 "nbformat": 4,
 "nbformat_minor": 5
}
