{
 "cells": [
  {
   "cell_type": "markdown",
   "id": "bde60b67-95c6-4d66-b76b-000bc2dd8229",
   "metadata": {},
   "source": [
    "#### Installs ----- commented in or out and restart kernel after completed"
   ]
  },
  {
   "cell_type": "code",
   "execution_count": 1,
   "id": "a33739b0-54f4-4d7e-8467-8c97e23b84d8",
   "metadata": {},
   "outputs": [],
   "source": [
    "# !pip install openai\n",
    "# !pip install --upgrade openai\n",
    "# !pip install --upgrade pip\n",
    "# !pip install GitPython\n",
    "# !pip install beautifulsoup4\n",
    "\n",
    "# image processing\n",
    "#!pip install pillow\n",
    "# !pip install pydantic\n",
    "# !pip install python-dotenv"
   ]
  },
  {
   "cell_type": "markdown",
   "id": "1154afff-f625-4e6e-9d38-bc398660b7fb",
   "metadata": {},
   "source": [
    "#### <u><b>Libraries</u></b>"
   ]
  },
  {
   "cell_type": "code",
   "execution_count": 1,
   "id": "586264f0-bf08-459f-80a1-74de60dfa7e6",
   "metadata": {},
   "outputs": [],
   "source": [
    "from getpass import getpass\n",
    "import openai\n",
    "from openai import OpenAI\n",
    "import os\n",
    "from git import Repo\n",
    "#used for setting up paths and parent dir to github repository\n",
    "from pathlib import Path\n",
    "import shutil\n",
    "from bs4 import BeautifulSoup as Soup\n",
    "from PIL import Image\n",
    "from dotenv import load_dotenv\n",
    "from datetime import datetime as dt # for formatting date returned with images\n",
    "import requests                # for downloading images from URLs"
   ]
  },
  {
   "cell_type": "markdown",
   "id": "9fee3d44-a5b1-40f9-a397-7ac4958de28c",
   "metadata": {},
   "source": [
    "#### Set Folders"
   ]
  },
  {
   "cell_type": "code",
   "execution_count": 2,
   "id": "e185a407-b675-4298-8373-a063819e0830",
   "metadata": {},
   "outputs": [],
   "source": [
    "#git repo folder - the folder that holds the changes and commits\n",
    "PATH_TO_BLOG_REPO = Path('C:\\\\Users\\\\DARiN\\\\Documents\\\\Python-JL\\\\Github\\\\Blog-Generator.github.io\\\\.git')\n",
    "#main folder to inject the index.html files\n",
    "PATH_TO_BLOG = PATH_TO_BLOG_REPO.parent\n",
    "#content subfolder where we will put the blog content\n",
    "PATH_TO_CONTENT = PATH_TO_BLOG/\"content\"\n",
    "#creates content folder\n",
    "PATH_TO_CONTENT.mkdir(exist_ok=True,parents=True)"
   ]
  },
  {
   "cell_type": "markdown",
   "id": "e6059de3-7ea2-47fa-9052-ba5ef14838b2",
   "metadata": {},
   "source": [
    "#### <u><b>Set API</u></b>"
   ]
  },
  {
   "cell_type": "code",
   "execution_count": 12,
   "id": "5ef62fff-7e46-47b9-8171-c40d2b461e05",
   "metadata": {},
   "outputs": [
    {
     "name": "stdin",
     "output_type": "stream",
     "text": [
      "enter your OpenAI username:  caliskate04\n"
     ]
    }
   ],
   "source": [
    "inputuser=input('enter your OpenAI username: ')\n",
    "os.environ[\"OPENAI_API_KEY\"] = ''\n",
    "load_dotenv('database.env') #loads file you must make called \"database.env\" which contains \"openaikey=\" followed by your open ai api key\n",
    "openai.api_key=os.getenv('openaikey')\n",
    "client = OpenAI(api_key=openai.api_key)"
   ]
  },
  {
   "cell_type": "markdown",
   "id": "21623166-b6fb-45a9-82b4-1084387570b9",
   "metadata": {},
   "source": [
    "#### Define Git Push"
   ]
  },
  {
   "cell_type": "code",
   "execution_count": 14,
   "id": "dfa73d81-823a-4a59-92d5-b4c1941fddc8",
   "metadata": {},
   "outputs": [],
   "source": [
    "def update_blog(commit_message='Updates blog - notebook final edits'):\n",
    "        #tells GitPython the Repo Location\n",
    "        repo = Repo(PATH_TO_BLOG_REPO)\n",
    "        #git add . (everything)\n",
    "        repo.git.add(all=True)\n",
    "        #git commit with some message (-m) \"updates blog\"\n",
    "        repo.index.commit(commit_message)\n",
    "        #git push\n",
    "        origin = repo.remote(name='origin')\n",
    "        origin.push()"
   ]
  },
  {
   "cell_type": "markdown",
   "id": "7889b3a4-685e-45ea-8571-47b5ceba4e72",
   "metadata": {},
   "source": [
    "#### Create Blog Function Defined Here"
   ]
  },
  {
   "cell_type": "code",
   "execution_count": 15,
   "id": "65021cf7-133c-4ef8-88e3-015b2bb00a42",
   "metadata": {},
   "outputs": [],
   "source": [
    "#blog_utils\n",
    "def create_new_blog(title,content,cover_image):\n",
    "    cover_image = Path(cover_image)\n",
    "\n",
    "    files = len(list(PATH_TO_CONTENT.glob(\"*.html\")))     #grab all html files and count them\n",
    "    new_title = f\"{files+1}.html\" #creates file and folder name by counting up by 1\n",
    "    path_to_new_content = PATH_TO_CONTENT/new_title #getting the file and making sure in correct dir\n",
    "    \n",
    "    shutil.copy(cover_image,PATH_TO_CONTENT) #checks to make sure file name does not exist - prevents error or overwriting existing files\n",
    "    print(new_title)\n",
    "    if not os.path.exists(path_to_new_content):\n",
    "        #write a new html file\n",
    "        with open(path_to_new_content,\"w\") as f:\n",
    "            #write commands for each line of the blog\n",
    "            #write head of html open and close\n",
    "            f.write(\"<!DOCTYPE HTML>\\n\")\n",
    "            f.write(\"<html>\\n\")\n",
    "            f.write(\"<head>\\n\")\n",
    "            f.write(f\"<title>{title}</title>\\n\")\n",
    "            f.write(\"</head>\\n\")\n",
    "            #write body open and close with title, image and content\n",
    "            f.write(\"<body>\\n\")\n",
    "            f.write(f\"<img src='{cover_image.name}' alt='Cover Image'> <br />\\n\")\n",
    "            f.write(f\"<h1> {title} </h1>\")\n",
    "            #open ai provides \\n but we also want to replace that to include break calls\n",
    "            f.write(content.replace(\"\\n\", \"<br />\\n\"))\n",
    "            f.write(\"</body>\\n\")\n",
    "            f.write(\"</html>\\n\")\n",
    "            print('Blog Created')\n",
    "            return path_to_new_content\n",
    "    else:\n",
    "            raise FileExistsError(\"File name already exists\")"
   ]
  },
  {
   "cell_type": "code",
   "execution_count": 16,
   "id": "1c7acea7-9fbf-4617-8671-1acd59a3caf7",
   "metadata": {},
   "outputs": [
    {
     "data": {
      "text/plain": [
       "'<html lang=\"en\">\\n<head>\\n<meta charset=\"utf-8\"/>\\n<meta content=\"width=device-width, initial-scale=1.0\" name=\"viewport\"/>\\n<title>\\n   Document\\n  </title>\\n</head>\\n<body>\\n<h1>\\n   My BLOG Home page\\n  </h1>\\n<a href=\"index.html\">\\n   Home\\n  </a>\\n<a href=\"content\\\\4.html\">\\n   4\\n  </a>\\n<a href=\"content\\\\5.html\">\\n   5\\n  </a>\\n<a href=\"content\\\\6.html\">\\n   6\\n  </a>\\n<a href=\"content\\\\7.html\">\\n   7\\n  </a>\\n<a href=\"content\\\\8.html\">\\n   8\\n  </a>\\n<a href=\"content\\\\9.html\">\\n   9\\n  </a>\\n<a href=\"content\\\\10.html\">\\n   10\\n  </a>\\n<a href=\"content\\\\11.html\">\\n   11\\n  </a>\\n<a href=\"content\\\\12.html\">\\n   12\\n  </a>\\n<a href=\"content\\\\13.html\">\\n   13\\n  </a>\\n<a href=\"content\\\\14.html\">\\n   14\\n  </a>\\n<a href=\"content\\\\15.html\">\\n   15\\n  </a>\\n<a href=\"content\\\\16.html\">\\n   16\\n  </a>\\n<a href=\"content\\\\17.html\">\\n   17\\n  </a>\\n<a href=\"content\\\\18.html\">\\n   18\\n  </a>\\n<a href=\"content\\\\19.html\">\\n   19\\n  </a>\\n<a href=\"content\\\\22.html\">\\n   22\\n  </a>\\n<a href=\"content\\\\23.html\">\\n   23\\n  </a>\\n<a href=\"content\\\\24.html\">\\n   24\\n  </a>\\n<a href=\"content\\\\25.html\">\\n   25\\n  </a>\\n<a href=\"content\\\\26.html\">\\n   26\\n  </a>\\n<a href=\"content\\\\27.html\">\\n   27\\n  </a>\\n<a href=\"content\\\\28.html\">\\n   28\\n  </a>\\n<a href=\"content\\\\29.html\">\\n   29\\n  </a>\\n<a href=\"content\\\\30.html\">\\n   30\\n  </a>\\n<a href=\"content\\\\33.html\">\\n   33\\n  </a>\\n<a href=\"content\\\\38.html\">\\n   38\\n  </a>\\n<a href=\"content\\\\46.html\">\\n   46\\n  </a>\\n<a href=\"content\\\\48.html\">\\n   48\\n  </a>\\n<a href=\"content\\\\49.html\">\\n   49\\n  </a>\\n<a href=\"content\\\\50.html\">\\n   50\\n  </a>\\n<a href=\"content\\\\53.html\">\\n   53\\n  </a>\\n<a href=\"content\\\\54.html\">\\n   54\\n  </a>\\n</body>\\n</html>\\n'"
      ]
     },
     "execution_count": 16,
     "metadata": {},
     "output_type": "execute_result"
    }
   ],
   "source": [
    "#get an index that lists all of the blog posts\n",
    "with open(PATH_TO_BLOG/\"index.html\") as index:\n",
    "    soup = Soup(index.read())\n",
    "\n",
    "str(soup)"
   ]
  },
  {
   "cell_type": "code",
   "execution_count": 17,
   "id": "9d95b23f-0b7a-41b6-8910-5f9d2044cf9a",
   "metadata": {},
   "outputs": [],
   "source": [
    "#check for duplicate links, using href (the anchor tag for index.html)\n",
    "def check_for_duplicate_links(path_to_new_content, links):\n",
    "    urls = [str(link.get(\"href\")) for link in links] #1.html,2.html,3.html\n",
    "    content_path=str(Path(*path_to_new_content.parts[-2:])) # checks for index of 2 until the end ... would look like C:/UIsers/marci/file.../1.html\n",
    "    return content_path in urls"
   ]
  },
  {
   "cell_type": "code",
   "execution_count": 18,
   "id": "96a9bc27-901f-44cf-8cb1-622571e31df9",
   "metadata": {},
   "outputs": [],
   "source": [
    "def write_to_index(path_to_new_content):\n",
    "    with open(PATH_TO_BLOG/'index.html') as index:\n",
    "        soup = Soup(index.read()) #looks for all anchor tags then finds the last link\n",
    "        \n",
    "    links = soup.find_all('a')\n",
    "    last_link = links[-1]\n",
    "\n",
    "    if check_for_duplicate_links(path_to_new_content,links):\n",
    "        raise ValueError(\"Link already exists!\")\n",
    "        # a lot of this takes advantage of what beautiful soup already has, need to familiarize what is has if you're working with html and the web\n",
    "        #finds the path to the new content\n",
    "    link_to_new_blog = soup.new_tag(\"a\",href=Path(*path_to_new_content.parts[-2:]))\n",
    "        #convert the path into a string and instert into a new blog\n",
    "    link_to_new_blog.string = path_to_new_content.name.split('.')[0]\n",
    "    last_link.insert_after(link_to_new_blog)\n",
    "\n",
    "    with open(PATH_TO_BLOG/'index.html','w') as f:\n",
    "        f.write(str(soup.prettify(formatter='html'))) #prettify with separate long string into new lines"
   ]
  },
  {
   "cell_type": "markdown",
   "id": "7b87a066-2019-4629-8a0d-cbd3d4884bdf",
   "metadata": {},
   "source": [
    "#### Defining Text Prompt"
   ]
  },
  {
   "cell_type": "code",
   "execution_count": 19,
   "id": "58ee26cd-5097-4e48-96ea-f7b020c0a875",
   "metadata": {},
   "outputs": [
    {
     "name": "stdout",
     "output_type": "stream",
     "text": [
      "\n",
      "    Biography:\n",
      "    My name is Darin and I am a Python student.\n",
      "\n",
      "    Blog\n",
      "    Title: Python and the Future of AI\n",
      "    tags: tech, python, coding, AI, machine learning\n",
      "    Summary: I learn about what Python can hold for the future of AI. Please do not exceed 2 paragraphs in total response length.\n",
      "    Full text: \n"
     ]
    }
   ],
   "source": [
    "def create_prompt(title):\n",
    "    prompt=\"\"\"\n",
    "    Biography:\n",
    "    My name is Darin and I am a Python student.\n",
    "\n",
    "    Blog\n",
    "    Title: {}\n",
    "    tags: tech, python, coding, AI, machine learning\n",
    "    Summary: I learn about what Python can hold for the future of AI. Please do not exceed 2 paragraphs in total response length.\n",
    "    Full text: \"\"\".format(title) #070224 added 'Do not exceed 2 paragraphs.' based on max token length of 250\n",
    "    return prompt\n",
    "\n",
    "title = \"Python and the Future of AI\" #fixed format 070224\n",
    "print(create_prompt(title))"
   ]
  },
  {
   "cell_type": "markdown",
   "id": "b199c71c-d6fc-4211-93fb-b521db6f4b77",
   "metadata": {},
   "source": [
    "#### Chat GPT 3.5 API call - (rerun from here to create new blog)"
   ]
  },
  {
   "cell_type": "code",
   "execution_count": 22,
   "id": "67add241-8a8d-432b-84c0-89e8a695a15a",
   "metadata": {},
   "outputs": [],
   "source": [
    "# old format - as needed, for reference\n",
    "# completion=client.completions.create(\n",
    "#                 model='gpt-3.5-turbo-instruct',\n",
    "#                 prompt=create_prompt(title),\n",
    "#                 max_tokens=250, #length of output\n",
    "#                 temperature=0.7, # 0 to 1, only change top p or temperature , 0 is the most probable, 1 takes more risks\n",
    "#                 top_p = 1.0, #only change top p or temperature, 1 is default, 0.1 is top 10% most probable\n",
    "#                 frequency_penalty=0, #-2 to 2, positive value penalizes new tokens if they exist, decreaseing probabiolity of repeating text\n",
    "#                 presence_penalty=0, #-2 to 2, positive penalize new tokens if they appear, but thinks about tokens, value too high creates low probability\n",
    "#                 n = 1, #number or results to be rewturned, 1 is default, use when temp is zero to min repeating results\n",
    "#                 # stop = ['/n'],\n",
    "# )         \n",
    "# blog_content=completion.choices[0].text\n",
    "# print(blog_content)"
   ]
  },
  {
   "cell_type": "code",
   "execution_count": 23,
   "id": "dd8dd562-44dc-42ca-8094-b6b9cbced0d6",
   "metadata": {},
   "outputs": [
    {
     "name": "stdout",
     "output_type": "stream",
     "text": [
      "Python has emerged as a powerhouse in the field of artificial intelligence and machine learning due to its simplicity, versatility, and vast array of libraries. As a Python student, I am excited about the endless possibilities this programming language offers in shaping the future of AI. Python's ease of use and readability make it an ideal choice for both beginners and experienced developers looking to delve into AI and machine learning projects.\n",
      "\n",
      "With Python's rich ecosystem of libraries such as TensorFlow, scikit-learn, and PyTorch, developers can easily implement complex algorithms and models for AI applications. Its strong community support and active development further solidify Python's position as a leading language in the AI landscape. As I continue to explore Python's capabilities in AI, I am confident that this dynamic language will play a pivotal role in driving innovation and advancements in the field of artificial intelligence.\n"
     ]
    }
   ],
   "source": [
    "#new api call format\n",
    "def system_prompt():\n",
    "    return \"You are a helpful assistant to write blogposts.\"\n",
    "def get_blog_from_openai(blog_title):\n",
    "    response=client.chat.completions.create(\n",
    "                            model=\"gpt-3.5-turbo\",\n",
    "                            messages=[\n",
    "                                {\"role\": \"system\",\n",
    "                                  \"content\": system_prompt()},\n",
    "                                {\"role\": \"user\", \"content\": create_prompt(blog_title)},\n",
    "                            ],\n",
    "                                temperature=0.7,\n",
    "                                max_tokens=250,\n",
    ")         \n",
    "    return response.choices[0].message.content\n",
    "blog_content = get_blog_from_openai(title)\n",
    "print(blog_content)"
   ]
  },
  {
   "cell_type": "markdown",
   "id": "69142878-eaf2-436a-b2d0-70bcda587d50",
   "metadata": {},
   "source": [
    "#### Defining Image Prompt"
   ]
  },
  {
   "cell_type": "code",
   "execution_count": null,
   "id": "626f946c-ef9a-4072-84b6-ae030bcc74f7",
   "metadata": {},
   "outputs": [],
   "source": [
    "def dalle3_prompt(title):\n",
    "    prompt=f\"Sci-fi art showing a movie scene with {title}, extremely detailed and mesmerizing.\"\n",
    "    return prompt #added extremely detailed and mesmerizing 070224"
   ]
  },
  {
   "cell_type": "markdown",
   "id": "d28d5525-10b5-480d-aaa5-d0f9afa37454",
   "metadata": {},
   "source": [
    "#### Dalle3 API Call"
   ]
  },
  {
   "cell_type": "code",
   "execution_count": null,
   "id": "7a6fffd5-fe82-4b9b-b81e-88f6ac79e540",
   "metadata": {},
   "outputs": [],
   "source": [
    "image_params = {\n",
    " \"model\": \"dall-e-3\",  # Defaults to dall-e-2\n",
    " \"n\": 1,               # Between 2 and 10 is only for DALL-E 2\n",
    " \"size\": \"1024x1024\",  # 256x256, 512x512 only for DALL-E 2 - not much cheaper - 1024x1024, 1024x1792 or 1792x1024 available for DALL-E 3\n",
    " \"prompt\": dalle3_prompt(title),     # DALL-E 3: max 4000 characters, DALL-E 2: max 1000\n",
    " \"user\": inputuser,     # pass a customer ID to OpenAI for abuse monitoring\n",
    "}\n",
    "images_response = client.images.generate(**image_params)"
   ]
  },
  {
   "cell_type": "code",
   "execution_count": null,
   "id": "7050908b-92a0-403b-8f61-a1bea9f75491",
   "metadata": {},
   "outputs": [],
   "source": [
    "#naming image and getting url\n",
    "dname = dt.now().strftime('%m-%d-%Y %H:%M:%S').replace(\"-\",'').replace(\":\",'').replace(' ','-')\n",
    "img_filename = 'BLOG-image_' + dname +'.png'\n",
    "image_url=images_response.data[0].url\n",
    "\n",
    "#downloading image from url\n",
    "with open(img_filename,'wb') as f:\n",
    "    shutil.copyfileobj(requests.get(image_url, stream=True).raw, f)\n",
    "print(img_filename,'downloaded')"
   ]
  },
  {
   "cell_type": "code",
   "execution_count": null,
   "id": "f033b71d-7784-4c50-9478-23d23a44c3aa",
   "metadata": {},
   "outputs": [],
   "source": [
    "#check image - rerun DALLE API call if not satisfied - notebook use only\n",
    "Image.open(img_filename).resize((300,300))"
   ]
  },
  {
   "cell_type": "code",
   "execution_count": null,
   "id": "f7049d13-4931-4a39-924b-d783b71accf8",
   "metadata": {},
   "outputs": [],
   "source": [
    "#defining new path\n",
    "#combine create blog! - added new auto filename 070224\n",
    "path_to_new_content=create_new_blog(title,blog_content, img_filename) #main, func from blog utils\n",
    "write_to_index(path_to_new_content) # main, func from blog utils"
   ]
  },
  {
   "cell_type": "code",
   "execution_count": null,
   "id": "ac6153e8-646b-4d13-bd6f-5a6dbd68ec69",
   "metadata": {},
   "outputs": [],
   "source": [
    "#push to github\n",
    "update_blog()"
   ]
  }
 ],
 "metadata": {
  "kernelspec": {
   "display_name": "Python 3 (ipykernel)",
   "language": "python",
   "name": "python3"
  },
  "language_info": {
   "codemirror_mode": {
    "name": "ipython",
    "version": 3
   },
   "file_extension": ".py",
   "mimetype": "text/x-python",
   "name": "python",
   "nbconvert_exporter": "python",
   "pygments_lexer": "ipython3",
   "version": "3.12.4"
  }
 },
 "nbformat": 4,
 "nbformat_minor": 5
}
