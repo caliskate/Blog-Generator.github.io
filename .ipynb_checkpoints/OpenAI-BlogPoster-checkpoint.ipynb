{
 "cells": [
  {
   "cell_type": "code",
   "execution_count": 105,
   "id": "a33739b0-54f4-4d7e-8467-8c97e23b84d8",
   "metadata": {},
   "outputs": [
    {
     "name": "stdout",
     "output_type": "stream",
     "text": [
      "Defaulting to user installation because normal site-packages is not writeable\n",
      "Collecting pillow\n",
      "  Downloading pillow-10.3.0-cp312-cp312-win_amd64.whl.metadata (9.4 kB)\n",
      "Downloading pillow-10.3.0-cp312-cp312-win_amd64.whl (2.5 MB)\n",
      "   ---------------------------------------- 0.0/2.5 MB ? eta -:--:--\n",
      "   ---------- ----------------------------- 0.7/2.5 MB 13.9 MB/s eta 0:00:01\n",
      "   -------------------------------- ------- 2.1/2.5 MB 21.9 MB/s eta 0:00:01\n",
      "   ---------------------------------------- 2.5/2.5 MB 23.1 MB/s eta 0:00:00\n",
      "Installing collected packages: pillow\n",
      "Successfully installed pillow-10.3.0\n"
     ]
    }
   ],
   "source": [
    "# installs:\n",
    "# !pip install openai\n",
    "# !pip install --upgrade openai\n",
    "# !pip install --upgrade pip\n",
    "# !pip install GitPython\n",
    "#!pip install beautifulsoup4\n",
    "#used for image processing\n",
    "#!pip install pillow"
   ]
  },
  {
   "cell_type": "markdown",
   "id": "1154afff-f625-4e6e-9d38-bc398660b7fb",
   "metadata": {},
   "source": [
    "#### <u><b>Libraries</u></b>"
   ]
  },
  {
   "cell_type": "code",
   "execution_count": 1,
   "id": "586264f0-bf08-459f-80a1-74de60dfa7e6",
   "metadata": {},
   "outputs": [],
   "source": [
    "from getpass import getpass\n",
    "from openai import OpenAI\n",
    "import os\n",
    "from git import Repo\n",
    "#used for setting up paths and parent dir to github repository\n",
    "from pathlib import Path\n",
    "import shutil\n",
    "from bs4 import BeautifulSoup as Soup\n",
    "from PIL import Image\n",
    "\n",
    "from io import BytesIO\n",
    "import openai                  # for handling error types\n",
    "import datetime as dt\n",
    "from datetime import datetime  # for formatting date returned with images\n",
    "import base64                  # for decoding images if recieved in the reply\n",
    "import requests                # for downloading images from URLs\n",
    "from PIL import Image          # pillow, for processing image types\n",
    "import tkinter as tk           # for GUI thumbnails of what we got\n",
    "from PIL import ImageTk        # for GUI thumbnails of what we got"
   ]
  },
  {
   "cell_type": "code",
   "execution_count": 22,
   "id": "2f95d914-392f-427d-b448-798e5e74fd27",
   "metadata": {},
   "outputs": [
    {
     "data": {
      "text/plain": [
       "'C:\\\\Users\\\\DARiN\\\\Documents\\\\Python-JL\\\\Github\\\\caliskate.github.io'"
      ]
     },
     "execution_count": 22,
     "metadata": {},
     "output_type": "execute_result"
    }
   ],
   "source": [
    "\n",
    "pwd"
   ]
  },
  {
   "cell_type": "markdown",
   "id": "9fee3d44-a5b1-40f9-a397-7ac4958de28c",
   "metadata": {},
   "source": [
    "## set folders"
   ]
  },
  {
   "cell_type": "code",
   "execution_count": 2,
   "id": "e185a407-b675-4298-8373-a063819e0830",
   "metadata": {},
   "outputs": [],
   "source": [
    "#git repo folder - the folder that holds the changes and commits\n",
    "PATH_TO_BLOG_REPO = Path('C:\\\\Users\\\\DARiN\\\\Documents\\\\Python-JL\\\\Github\\\\caliskate.github.io\\\\.git')\n",
    "#main folder to inject the index.html files\n",
    "PATH_TO_BLOG = PATH_TO_BLOG_REPO.parent\n",
    "#content subfolder where we will put the blog content\n",
    "PATH_TO_CONTENT = PATH_TO_BLOG/\"content\"\n",
    "#creates content folder\n",
    "PATH_TO_CONTENT.mkdir(exist_ok=True,parents=True)"
   ]
  },
  {
   "cell_type": "markdown",
   "id": "e6059de3-7ea2-47fa-9052-ba5ef14838b2",
   "metadata": {},
   "source": [
    "#### <u><b>Set API</u></b>"
   ]
  },
  {
   "cell_type": "code",
   "execution_count": 3,
   "id": "5ef62fff-7e46-47b9-8171-c40d2b461e05",
   "metadata": {},
   "outputs": [
    {
     "name": "stdin",
     "output_type": "stream",
     "text": [
      "enter openai api key:  ········\n"
     ]
    }
   ],
   "source": [
    "os.environ[\"OPENAI_API_KEY\"] = getpass('enter openai api key: ')"
   ]
  },
  {
   "cell_type": "code",
   "execution_count": 4,
   "id": "8d9deeb0-a215-491a-871f-84791cc7c3f8",
   "metadata": {},
   "outputs": [],
   "source": [
    "client = OpenAI(api_key=os.environ['OPENAI_API_KEY'])"
   ]
  },
  {
   "cell_type": "markdown",
   "id": "21623166-b6fb-45a9-82b4-1084387570b9",
   "metadata": {},
   "source": [
    "## Define Git Push"
   ]
  },
  {
   "cell_type": "code",
   "execution_count": 5,
   "id": "dfa73d81-823a-4a59-92d5-b4c1941fddc8",
   "metadata": {},
   "outputs": [],
   "source": [
    "def update_blog(commit_message='Updates blog'):\n",
    "        #tells GitPython the Repo Location\n",
    "        repo = Repo(PATH_TO_BLOG_REPO)\n",
    "        #git add . (everything)\n",
    "        repo.git.add(all=True)\n",
    "        #git commit with some message (-m) \"updates blog\"\n",
    "        repo.index.commit(commit_message)\n",
    "        #git push\n",
    "        origin = repo.remote(name='origin')\n",
    "        origin.push()"
   ]
  },
  {
   "cell_type": "code",
   "execution_count": 6,
   "id": "c933c156-cfb7-4f68-8ad3-725e8bc017dc",
   "metadata": {},
   "outputs": [],
   "source": [
    "# # commit test\n",
    "# random_text_string='asdfj'\n",
    "\n",
    "# with open(PATH_TO_BLOG/\"index.html\",'w') as f:\n",
    "#         f.write(random_text_string)\n",
    "\n",
    "# update_blog()"
   ]
  },
  {
   "cell_type": "markdown",
   "id": "7889b3a4-685e-45ea-8571-47b5ceba4e72",
   "metadata": {},
   "source": [
    "## create blog function defined here"
   ]
  },
  {
   "cell_type": "code",
   "execution_count": 64,
   "id": "65021cf7-133c-4ef8-88e3-015b2bb00a42",
   "metadata": {},
   "outputs": [],
   "source": [
    "def create_new_blog(title,content,cover_image):\n",
    "    cover_image = Path(cover_image)\n",
    "\n",
    "    files = len(list(PATH_TO_CONTENT.glob(\"*.html\")))     #grab all html files and count them\n",
    "    new_title = f\"{files+1}.html\" #creates file and folder name by counting up by 1\n",
    "    path_to_new_content = PATH_TO_CONTENT/new_title #getting the file and making sure in correct dir\n",
    "    \n",
    "    shutil.copy(cover_image,PATH_TO_CONTENT) #checks to make sure file name does not exist - prevents error or overwriting existing files\n",
    "    print(new_title)\n",
    "    if not os.path.exists(path_to_new_content):\n",
    "        #write a new html file\n",
    "        with open(path_to_new_content,\"w\") as f:\n",
    "            #write commands for each line of the blog\n",
    "            #write head of html open and close\n",
    "            f.write(\"<!DOCTYPE HTML>\\n\")\n",
    "            f.write(\"<html>\\n\")\n",
    "            f.write(\"<head>\\n\")\n",
    "            f.write(f\"<title>{title}</title>\\n\")\n",
    "            f.write(\"</head>\\n\")\n",
    "            #write body open and close with title, image and content\n",
    "            f.write(\"<body>\\n\")\n",
    "            f.write(f\"<img src='{cover_image.name}' alt='Cover Image'> <br />\\n\")\n",
    "            f.write(f\"<h1> {title} </h1>\")\n",
    "            #open ai provides \\n but we also want to replace that to include break calls\n",
    "            f.write(content.replace(\"\\n\", \"<br />\\n\"))\n",
    "            f.write(\"</body>\\n\")\n",
    "            f.write(\"</html>\\n\")\n",
    "            print('Blog Created')\n",
    "            return path_to_new_content\n",
    "    else:\n",
    "            raise FileExistsError(\"File name already exists\")"
   ]
  },
  {
   "cell_type": "code",
   "execution_count": 29,
   "id": "a3443c02-4b9c-4b9d-8dce-74876a5d6632",
   "metadata": {},
   "outputs": [],
   "source": [
    "#test\n",
    "# path_to_new_content = create_new_blog('Test_title','relakjhsdf','logo.png')"
   ]
  },
  {
   "cell_type": "code",
   "execution_count": 67,
   "id": "1c7acea7-9fbf-4617-8671-1acd59a3caf7",
   "metadata": {},
   "outputs": [
    {
     "data": {
      "text/plain": [
       "'<html lang=\"en\">\\n<head>\\n<meta charset=\"utf-8\"/>\\n<meta content=\"width=device-width, initial-scale=1.0\" name=\"viewport\"/>\\n<title>\\n   Document\\n  </title>\\n</head>\\n<body>\\n<h1>\\n   My BLOG Home page\\n  </h1>\\n<a href=\"index.html\">\\n   Home\\n  </a>\\n</body>\\n</html>\\n'"
      ]
     },
     "execution_count": 67,
     "metadata": {},
     "output_type": "execute_result"
    }
   ],
   "source": [
    "#we now want an index page that lists all of the blog posts\n",
    "with open(PATH_TO_BLOG/\"index.html\") as index:\n",
    "    soup = Soup(index.read())\n",
    "\n",
    "str(soup)"
   ]
  },
  {
   "cell_type": "code",
   "execution_count": 69,
   "id": "9d95b23f-0b7a-41b6-8910-5f9d2044cf9a",
   "metadata": {},
   "outputs": [],
   "source": [
    "#check for duplicate links, using href (the anchor tag for index.html)\n",
    "def check_for_duplicate_links(path_to_new_content, links):\n",
    "    urls = [str(link.get(\"href\")) for link in links] #1.html,2.html,3.html\n",
    "    content_path=str(Path(*path_to_new_content.parts[-2:])) # checks for index of 2 until the end ... would look like C:/UIsers/marci/file.../1.html\n",
    "    return content_path in urls"
   ]
  },
  {
   "cell_type": "code",
   "execution_count": 70,
   "id": "96a9bc27-901f-44cf-8cb1-622571e31df9",
   "metadata": {},
   "outputs": [],
   "source": [
    "#needed to fix a lot of spacing errors here! now working\n",
    "def write_to_index(path_to_new_content):\n",
    "    with open(PATH_TO_BLOG/'index.html') as index:\n",
    "        soup = Soup(index.read()) #looks for all anchor tags then finds the last link\n",
    "        \n",
    "    links = soup.find_all('a')\n",
    "    last_link = links[-1]\n",
    "\n",
    "    if check_for_duplicate_links(path_to_new_content,links):\n",
    "        raise ValueError(\"Link already exists!\")\n",
    "        # a lot of this takes advantage of what beautiful soup already has, need to familiarize what is has if you're working with html and the web\n",
    "        #finds the path to the new content\n",
    "    link_to_new_blog = soup.new_tag(\"a\",href=Path(*path_to_new_content.parts[-2:]))\n",
    "        #convert the path into a string and instert into a new blog\n",
    "    link_to_new_blog.string = path_to_new_content.name.split('.')[0]\n",
    "    last_link.insert_after(link_to_new_blog)\n",
    "\n",
    "    with open(PATH_TO_BLOG/'index.html','w') as f:\n",
    "        f.write(str(soup.prettify(formatter='html'))) #prettify with separate long string into new lines"
   ]
  },
  {
   "cell_type": "code",
   "execution_count": 71,
   "id": "0a094311-bddf-498b-88a7-ee8df8f1f2b6",
   "metadata": {},
   "outputs": [],
   "source": [
    "# # #test\n",
    "# write_to_index(path_to_new_content)\n",
    "# update_blog()"
   ]
  },
  {
   "cell_type": "markdown",
   "id": "7b87a066-2019-4629-8a0d-cbd3d4884bdf",
   "metadata": {},
   "source": [
    "## Defining text prompt"
   ]
  },
  {
   "cell_type": "code",
   "execution_count": 34,
   "id": "58ee26cd-5097-4e48-96ea-f7b020c0a875",
   "metadata": {},
   "outputs": [],
   "source": [
    "def create_prompt(title):\n",
    "    prompt=\"\"\"\n",
    "    Biography:\n",
    "    My name is Darin and I am a Python student.\n",
    "\n",
    "    Blog\n",
    "    Title: {}\n",
    "    tags: tech, python, coding, AI, machine learning\n",
    "    Summary: I learn about what Python can hold for the future of AI\n",
    "    Full text: \"\"\".format(title)\n",
    "    return prompt"
   ]
  },
  {
   "cell_type": "code",
   "execution_count": 35,
   "id": "1d903e97-c607-490e-ba47-f03f71661417",
   "metadata": {},
   "outputs": [
    {
     "name": "stdout",
     "output_type": "stream",
     "text": [
      "\n",
      "    Biography:\n",
      "    My name is Darin and I am a Python student.\n",
      "\n",
      "    Blog\n",
      "    Title: Python and future of AI\n",
      "    tags: tech, python, coding, AI, machine learning\n",
      "    Summary: I learn about what Python can hold for the future of AI\n",
      "    Full text: \n"
     ]
    }
   ],
   "source": [
    "title = \"Python and future of AI\"\n",
    "print(create_prompt(title))"
   ]
  },
  {
   "cell_type": "markdown",
   "id": "b199c71c-d6fc-4211-93fb-b521db6f4b77",
   "metadata": {},
   "source": [
    "## Chat GPT 3.5 API call"
   ]
  },
  {
   "cell_type": "code",
   "execution_count": 36,
   "id": "67add241-8a8d-432b-84c0-89e8a695a15a",
   "metadata": {},
   "outputs": [
    {
     "name": "stdout",
     "output_type": "stream",
     "text": [
      "\n",
      "Python has been gaining popularity in the tech industry, and for good reason. It is a versatile programming language that is easy to learn and has a wide range of applications. One of the most exciting areas where Python is making a significant impact is in the field of artificial intelligence (AI). \n",
      "\n",
      "AI is a cutting-edge technology that involves creating intelligent machines that can think, learn, and make decisions on their own. It is a rapidly evolving field and has the potential to change the way we live and\n"
     ]
    }
   ],
   "source": [
    "#new format \n",
    "client = OpenAI()\n",
    "\n",
    "completion=client.completions.create(\n",
    "                model='gpt-3.5-turbo-instruct',\n",
    "                prompt=create_prompt(title),\n",
    "                max_tokens=100, #length of output\n",
    "                temperature=0.7, # 0 to 1, only change top p or temperature , 0 is the most probable, 1 takes more risks\n",
    "                top_p = 1.0, #only change top p or temperature, 1 is default, 0.1 is top 10% most probable\n",
    "                frequency_penalty=0, #-2 to 2, positive value penalizes new tokens if they exist, decreaseing probabiolity of repeating text\n",
    "                presence_penalty=0, #-2 to 2, positive penalize new tokens if they appear, but thinks about tokens, value too high creates low probability\n",
    "                n = 1, #number or results to be rewturned, 1 is default, use when temp is zero to min repeating results\n",
    "                stop = ['</n>'],\n",
    ")         \n",
    "blog_content=completion.choices[0].text\n",
    "print(blog_content)"
   ]
  },
  {
   "cell_type": "markdown",
   "id": "69142878-eaf2-436a-b2d0-70bcda587d50",
   "metadata": {},
   "source": [
    "# Defining image prompt"
   ]
  },
  {
   "cell_type": "code",
   "execution_count": 73,
   "id": "dcaecd5e-670d-4815-bae3-0150bb53a86a",
   "metadata": {},
   "outputs": [
    {
     "data": {
      "text/plain": [
       "'Python and future of AI'"
      ]
     },
     "execution_count": 73,
     "metadata": {},
     "output_type": "execute_result"
    }
   ],
   "source": [
    "title"
   ]
  },
  {
   "cell_type": "code",
   "execution_count": 38,
   "id": "626f946c-ef9a-4072-84b6-ae030bcc74f7",
   "metadata": {},
   "outputs": [],
   "source": [
    "#get image\n",
    "def dalle2_prompt(title):\n",
    "    prompt=f\"Sci-fi art showing a movie scene with {title}\"\n",
    "    return prompt"
   ]
  },
  {
   "cell_type": "code",
   "execution_count": 39,
   "id": "5e9c59e5-7d01-49bf-b862-5afbb5c4f272",
   "metadata": {},
   "outputs": [
    {
     "data": {
      "text/plain": [
       "'Sci-fi art showing a movie scene with Python and future of AI'"
      ]
     },
     "execution_count": 39,
     "metadata": {},
     "output_type": "execute_result"
    }
   ],
   "source": [
    "image_prompt=dalle2_prompt(title)\n",
    "image_prompt"
   ]
  },
  {
   "cell_type": "code",
   "execution_count": 41,
   "id": "4ab16c60-f3bd-4175-aff4-f80a5f197653",
   "metadata": {},
   "outputs": [],
   "source": [
    "#image_response= client.images.generate(prompt=image_prompt, n=1, size=\"1024x1024\")\n",
    "#this seems to have worked"
   ]
  },
  {
   "cell_type": "code",
   "execution_count": 42,
   "id": "2abc5ec7-ebdb-4753-bac2-adb92be28d13",
   "metadata": {},
   "outputs": [],
   "source": [
    "# image_url=image_response['data'][0]['url']\n",
    "# image_url\n",
    "#this was taught in lecture, no longer works?"
   ]
  },
  {
   "cell_type": "code",
   "execution_count": 43,
   "id": "58693a3d-5bc3-41f0-b65b-40dbe67e8ffc",
   "metadata": {},
   "outputs": [],
   "source": [
    "# this no longer works so looked for solution online, see below"
   ]
  },
  {
   "cell_type": "markdown",
   "id": "d28d5525-10b5-480d-aaa5-d0f9afa37454",
   "metadata": {},
   "source": [
    "## Dalle2 or 3 API call"
   ]
  },
  {
   "cell_type": "code",
   "execution_count": 74,
   "id": "7a6fffd5-fe82-4b9b-b81e-88f6ac79e540",
   "metadata": {},
   "outputs": [],
   "source": [
    "#new image response format - since unable to get url from course lecture technique\n",
    "from openai import OpenAI\n",
    "# client = OpenAI(api_key=\"sk-xxxxx\")  # don't do this, OK?\n",
    "client = OpenAI()  # will use environment variable \"OPENAI_API_KEY\"\n",
    "\n",
    "prompt = image_prompt\n",
    "\n",
    "image_params = {\n",
    " \"model\": \"dall-e-3\",  # Defaults to dall-e-2\n",
    " \"n\": 1,               # Between 2 and 10 is only for DALL-E 2\n",
    " \"size\": \"1024x1024\",  # 256x256, 512x512 only for DALL-E 2 - not much cheaper\n",
    " \"prompt\": prompt,     # DALL-E 3: max 4000 characters, DALL-E 2: max 1000\n",
    " \"user\": \"caliskate\",     # pass a customer ID to OpenAI for abuse monitoring\n",
    "}\n",
    "\n",
    "## -- You can uncomment the lines below to include these non-default parameters --\n",
    "\n",
    "image_params.update({\"response_format\": \"b64_json\"})  # defaults to \"url\" for separate download\n",
    "\n",
    "## -- DALL-E 3 exclusive parameters --\n",
    "#image_params.update({\"model\": \"dall-e-3\"})  # Upgrade the model name to dall-e-3\n",
    "#image_params.update({\"size\": \"1792x1024\"})  # 1792x1024 or 1024x1792 available for DALL-E 3\n",
    "#image_params.update({\"quality\": \"hd\"})      # quality at 2x the price, defaults to \"standard\" \n",
    "#image_params.update({\"style\": \"natural\"})   # defaults to \"vivid\"\n",
    "\n",
    "# ---- START\n",
    "# here's the actual request to API and lots of error catching\n",
    "try:\n",
    "    images_response = client.images.generate(**image_params)\n",
    "except openai.APIConnectionError as e:\n",
    "    print(\"Server connection error: {e.__cause__}\")  # from httpx.\n",
    "    raise\n",
    "except openai.RateLimitError as e:\n",
    "    print(f\"OpenAI RATE LIMIT error {e.status_code}: (e.response)\")\n",
    "    raise\n",
    "except openai.APIStatusError as e:\n",
    "    print(f\"OpenAI STATUS error {e.status_code}: (e.response)\")\n",
    "    raise\n",
    "except openai.BadRequestError as e:\n",
    "    print(f\"OpenAI BAD REQUEST error {e.status_code}: (e.response)\")\n",
    "    raise\n",
    "except Exception as e:\n",
    "    print(f\"An unexpected error occurred: {e}\")\n",
    "    raise"
   ]
  },
  {
   "cell_type": "code",
   "execution_count": 75,
   "id": "7050908b-92a0-403b-8f61-a1bea9f75491",
   "metadata": {},
   "outputs": [
    {
     "name": "stdout",
     "output_type": "stream",
     "text": [
      "test223d42_0.png was saved\n"
     ]
    }
   ],
   "source": [
    "# make a file name prefix from date-time of response\n",
    "images_dt = images_response\n",
    "img_filename = 'test223d42'  # like 'DALLE-20231111_144356'\n",
    "\n",
    "# get the prompt used if rewritten by dall-e-3, null if unchanged by AI\n",
    "revised_prompt = images_response.data[0].revised_prompt\n",
    "\n",
    "# get out all the images in API return, whether url or base64\n",
    "# note the use of pydantic \"model.data\" style reference and its model_dump() method\n",
    "image_url_list = []\n",
    "image_data_list = []\n",
    "for image in images_response.data:\n",
    "    image_url_list.append(image.model_dump()[\"url\"])\n",
    "    image_data_list.append(image.model_dump()[\"b64_json\"])\n",
    "\n",
    "# Initialize an empty list to store the Image objects\n",
    "image_objects = []\n",
    "\n",
    "# Check whether lists contain urls that must be downloaded or b64_json images\n",
    "if image_url_list and all(image_url_list):\n",
    "    # Download images from the urls\n",
    "    for i, url in enumerate(image_url_list):\n",
    "        while True:\n",
    "            try:\n",
    "                print(f\"getting URL: {url}\")\n",
    "                response = requests.get(url)\n",
    "                response.raise_for_status()  # Raises stored HTTPError, if one occurred.\n",
    "            except requests.HTTPError as e:\n",
    "                print(f\"Failed to download image from {url}. Error: {e.response.status_code}\")\n",
    "                retry = input(\"Retry? (y/n): \")  # ask script user if image url is bad\n",
    "                if retry.lower() in [\"n\", \"no\"]:  # could wait a bit if not ready\n",
    "                    raise\n",
    "                else:\n",
    "                    continue\n",
    "            break\n",
    "        image_objects.append(Image.open(BytesIO(response.content)))  # Append the Image object to the list\n",
    "        image_objects[i].save(f\"{img_filename}_{i}.png\")\n",
    "        print(f\"{img_filename}_{i}.png was saved\")\n",
    "elif image_data_list and all(image_data_list):  # if there is b64 data\n",
    "    # Convert \"b64_json\" data to png file\n",
    "    for i, data in enumerate(image_data_list):\n",
    "        image_objects.append(Image.open(BytesIO(base64.b64decode(data))))  # Append the Image object to the list\n",
    "        image_objects[i].save(f\"{img_filename}_{i}.png\")\n",
    "        print(f\"{img_filename}_{i}.png was saved\")\n",
    "else:\n",
    "    print(\"No image data was obtained. Maybe bad code?\")\n",
    "\n",
    "## -- extra fun: pop up some thumbnails in your GUI if you want to see what was saved\n",
    "\n",
    "# if image_objects:\n",
    "#     # Create a new window for each image\n",
    "#     for i, img in enumerate(image_objects):\n",
    "#         # Resize image if necessary\n",
    "#         if img.width > 512 or img.height > 512:\n",
    "#             img.thumbnail((512, 512))  # Resize while keeping aspect ratio\n",
    "\n",
    "#         # Create a new tkinter window\n",
    "#         window = tk.Tk()\n",
    "#         window.title(f\"Image {i}\")\n",
    "\n",
    "#         # Convert PIL Image object to PhotoImage object\n",
    "#         tk_image = ImageTk.PhotoImage(img)\n",
    "\n",
    "#         # Create a label and add the image to it\n",
    "#         label = tk.Label(window, image=tk_image)\n",
    "#         label.pack()\n",
    "\n",
    "#         # Run the tkinter main loop - this will block the script until images are closed\n",
    "#         window.mainloop()"
   ]
  },
  {
   "cell_type": "code",
   "execution_count": 46,
   "id": "054dc48e-1d24-4959-9ca7-7634de40e20f",
   "metadata": {},
   "outputs": [],
   "source": [
    "# image_url=response['data'][0]['url']\n",
    "# image_"
   ]
  },
  {
   "cell_type": "code",
   "execution_count": 47,
   "id": "cd247fd8-12b1-4344-a659-6a37ac66c0ae",
   "metadata": {},
   "outputs": [],
   "source": [
    "# def save_image(image_url, file_name):\n",
    "#     image_res=requests.get(image_url, stream= True)\n",
    "\n",
    "#     if image_res.status_code ==200:\n",
    "#         with open(file_name,'wb') as f:\n",
    "#             shutil.copyfileobj(image_res.raw,f)\n",
    "#     else:\n",
    "#         print(\"Error downloading image!\")\n",
    "#     return image_res.status_code"
   ]
  },
  {
   "cell_type": "code",
   "execution_count": 48,
   "id": "617fa90b-d63e-49c4-a997-91131795ebb3",
   "metadata": {},
   "outputs": [],
   "source": [
    "# save_image(image_url,file_name='title2.png')\n",
    "# Image.open('test22342_0.png')"
   ]
  },
  {
   "cell_type": "code",
   "execution_count": 76,
   "id": "3d0789cb-9676-46f4-82e7-59ff7dd3fc6d",
   "metadata": {},
   "outputs": [
    {
     "data": {
      "text/plain": [
       "'Python and future of AI'"
      ]
     },
     "execution_count": 76,
     "metadata": {},
     "output_type": "execute_result"
    }
   ],
   "source": [
    "title"
   ]
  },
  {
   "cell_type": "code",
   "execution_count": 50,
   "id": "194f89dd-03b2-439c-8622-94fecbeee477",
   "metadata": {},
   "outputs": [
    {
     "data": {
      "text/plain": [
       "'\\nPython has been gaining popularity in the tech industry, and for good reason. It is a versatile programming language that is easy to learn and has a wide range of applications. One of the most exciting areas where Python is making a significant impact is in the field of artificial intelligence (AI). \\n\\nAI is a cutting-edge technology that involves creating intelligent machines that can think, learn, and make decisions on their own. It is a rapidly evolving field and has the potential to change the way we live and'"
      ]
     },
     "execution_count": 50,
     "metadata": {},
     "output_type": "execute_result"
    }
   ],
   "source": [
    "blog_content"
   ]
  },
  {
   "cell_type": "code",
   "execution_count": 78,
   "id": "b8626798-51d6-4a7f-a1fd-2ec7bcb82117",
   "metadata": {},
   "outputs": [
    {
     "name": "stdout",
     "output_type": "stream",
     "text": [
      "5.html\n",
      "Blog Created\n"
     ]
    }
   ],
   "source": [
    "#combine and post new blog!\n",
    "path_to_new_content=create_new_blog(title,blog_content,'test223d42_0.png')\n",
    "# for some reason this does not work???"
   ]
  },
  {
   "cell_type": "code",
   "execution_count": null,
   "id": "f7049d13-4931-4a39-924b-d783b71accf8",
   "metadata": {},
   "outputs": [],
   "source": []
  },
  {
   "cell_type": "code",
   "execution_count": null,
   "id": "ac6153e8-646b-4d13-bd6f-5a6dbd68ec69",
   "metadata": {},
   "outputs": [],
   "source": []
  },
  {
   "cell_type": "code",
   "execution_count": null,
   "id": "0a3a615d-ac88-4edc-a458-9da2c1a1254c",
   "metadata": {},
   "outputs": [],
   "source": []
  },
  {
   "cell_type": "code",
   "execution_count": 16,
   "id": "dd6fb7c5-f70a-4a49-a45a-19bd0f317e73",
   "metadata": {},
   "outputs": [
    {
     "name": "stdout",
     "output_type": "stream",
     "text": [
      "from getpass import getpass\n",
      "from openai import OpenAI\n",
      "import os\n",
      "# old openai.api_key = os.environ[\"OPENAI_API_KEY\"]\n",
      "client = OpenAI(\n",
      "    api_key=os.environ['OPENAI_API_KEY']\n",
      ")\n",
      "os.environ[\"OPENAI_API_KEY\"] = getpass('enter openai api key: ')\n",
      "# old openai.api_key = os.environ[\"OPENAI_API_KEY\"]\n",
      "client = OpenAI(\n",
      "    api_key=os.environ['OPENAI_API_KEY']\n",
      ")\n",
      "from getpass import getpass\n",
      "from openai import OpenAI\n",
      "import os\n",
      "import json\n",
      "client = OpenAI()\n",
      "\n",
      "completion=client.completions.create(model='davinci-002',prompt='give me one reasons to learn openai api with python')\n",
      "print(completion.choicesp[0].text)\n",
      "print(dict(completion).get('usage'))\n",
      "print(completion.model_dump_json(indent=2))\n",
      "client = OpenAI()\n",
      "\n",
      "completion=client.completions.create(model='davinci-002',prompt='give me one reasons to learn openai api with python')\n",
      "print(completion.choices[0].text)\n",
      "print(dict(completion).get('usage'))\n",
      "print(completion.model_dump_json(indent=2))\n",
      "client = OpenAI()\n",
      "\n",
      "completion=client.completions.create(model='davinci-002',prompt='give me one reasons to learn openai api with python')\n",
      "print(completion.choices[0].text)\n",
      "#print(dict(completion).get('usage'))\n",
      "#print(completion.model_dump_json(indent=2))\n",
      "client = OpenAI()\n",
      "\n",
      "completion=client.completions.create(model='gpt-3.5-turbo-instruct',prompt='give me one reasons to learn openai api with python')\n",
      "print(completion.choices[0].text)\n",
      "#print(dict(completion).get('usage'))\n",
      "#print(completion.model_dump_json(indent=2))\n",
      "client = OpenAI()\n",
      "\n",
      "completion=client.completions.create(\n",
      "                model='gpt-3.5-turbo-instruct',\n",
      "                prompt='give me one reasons to learn openai api with python')\n",
      "print(completion.choices[0].text)\n",
      "#print(dict(completion).get('usage'))\n",
      "#print(completion.model_dump_json(indent=2))\n",
      "%history\n",
      "%history -o\n",
      "%history -o\n",
      "client = OpenAI()\n",
      "\n",
      "completion=client.completions.create(\n",
      "                model='gpt-3.5-turbo-instruct',\n",
      "                prompt='give me one reasons to learn openai api with python')\n",
      "print(completion.choices[0].text)\n",
      "%history -o\n",
      "%history -o\n"
     ]
    }
   ],
   "source": [
    "%history -o"
   ]
  },
  {
   "cell_type": "code",
   "execution_count": null,
   "id": "6341f60c-00aa-4f9c-bfbd-eaecea551197",
   "metadata": {},
   "outputs": [],
   "source": []
  }
 ],
 "metadata": {
  "kernelspec": {
   "display_name": "Python 3 (ipykernel)",
   "language": "python",
   "name": "python3"
  },
  "language_info": {
   "codemirror_mode": {
    "name": "ipython",
    "version": 3
   },
   "file_extension": ".py",
   "mimetype": "text/x-python",
   "name": "python",
   "nbconvert_exporter": "python",
   "pygments_lexer": "ipython3",
   "version": "3.12.4"
  }
 },
 "nbformat": 4,
 "nbformat_minor": 5
}
